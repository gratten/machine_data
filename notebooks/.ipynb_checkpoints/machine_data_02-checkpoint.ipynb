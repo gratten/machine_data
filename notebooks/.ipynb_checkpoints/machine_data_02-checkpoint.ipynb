{
 "cells": [
  {
   "cell_type": "markdown",
   "metadata": {},
   "source": [
    "#### generate import file for kit table"
   ]
  },
  {
   "cell_type": "code",
   "execution_count": 80,
   "metadata": {},
   "outputs": [],
   "source": [
    "import os\n",
    "os.chdir('C:\\\\Users\\\\WDG1DCR\\Desktop\\\\my_projects\\\\web\\\\machine_data\\\\notebooks')"
   ]
  },
  {
   "cell_type": "code",
   "execution_count": 81,
   "metadata": {},
   "outputs": [],
   "source": [
    "import pandas as pd"
   ]
  },
  {
   "cell_type": "code",
   "execution_count": 82,
   "metadata": {},
   "outputs": [],
   "source": [
    "fileName = 'endload_serialnums'"
   ]
  },
  {
   "cell_type": "code",
   "execution_count": 83,
   "metadata": {},
   "outputs": [],
   "source": [
    "xl = pd.ExcelFile(f'source_data/{fileName}.xlsx')\n",
    "df = xl.parse('Enterprise')"
   ]
  },
  {
   "cell_type": "code",
   "execution_count": 84,
   "metadata": {},
   "outputs": [],
   "source": [
    "df = df.head(10)"
   ]
  },
  {
   "cell_type": "code",
   "execution_count": 85,
   "metadata": {},
   "outputs": [
    {
     "data": {
      "text/plain": [
       "0                                                  NaN\n",
       "1          5-7/8 x 1-1/4 x 7.32\\n5-7/8 x 1-1/16 x 7.32\n",
       "2    5.250 X 2.500 X 9.000\\n5.250 X 3.250 X 9.000\\n...\n",
       "3              5.25 X 2.50 X 9.75\\n10.00 X 2.75 X 9.75\n",
       "4         4.563 X 3.031 X 4.500\\n4.563 X 2.938 X 9.000\n",
       "5         4.563 X 3.031 X 4.500\\n4.563 X 2.938 X 9.000\n",
       "6         4.563 X 3.031 X 4.500\\n4.563 X 2.938 X 9.000\n",
       "7    4.313 X 4.188 X 10.031\\n4.313 X 2.188 X 10.031...\n",
       "8              7.25 X 1.625 X 7.25\\n7.25 X 2.25 X 7.25\n",
       "9                          8-15/16\" X 3-1/2\" X 11-1/8\"\n",
       "Name: Carton Size, dtype: object"
      ]
     },
     "execution_count": 85,
     "metadata": {},
     "output_type": "execute_result"
    }
   ],
   "source": [
    "df['Carton Size']"
   ]
  },
  {
   "cell_type": "code",
   "execution_count": 92,
   "metadata": {},
   "outputs": [],
   "source": [
    "size_list = []\n",
    "\n",
    "for i in df['Carton Size']:\n",
    "    i = str(i)\n",
    "    sizes = i.split('\\n')\n",
    "    for j in sizes:\n",
    "        size_list.append(j)"
   ]
  },
  {
   "cell_type": "code",
   "execution_count": 93,
   "metadata": {},
   "outputs": [
    {
     "data": {
      "text/plain": [
       "24"
      ]
     },
     "execution_count": 93,
     "metadata": {},
     "output_type": "execute_result"
    }
   ],
   "source": [
    "len(size_list)"
   ]
  },
  {
   "cell_type": "code",
   "execution_count": 94,
   "metadata": {},
   "outputs": [
    {
     "name": "stdout",
     "output_type": "stream",
     "text": [
      "nan\n",
      "\n",
      "5-7/8 x 1-1/4 x 7.32\n",
      "\n",
      "5-7/8 x 1-1/16 x 7.32\n",
      "\n",
      "5.250 X 2.500 X 9.000\n",
      "\n",
      "5.250 X 3.250 X 9.000\n",
      "\n",
      "5.250 X 3.500 X 9.000\n",
      "\n",
      "7.125 X 4.000 X 9.500\n",
      "\n",
      "5.250 X 3.250 X 7.500\n",
      "\n",
      "5.25 X 2.50 X 9.75\n",
      "\n",
      "10.00 X 2.75 X 9.75\n",
      "\n",
      "4.563 X 3.031 X 4.500\n",
      "\n",
      "4.563 X 2.938 X 9.000\n",
      "\n",
      "4.563 X 3.031 X 4.500\n",
      "\n",
      "4.563 X 2.938 X 9.000\n",
      "\n",
      "4.563 X 3.031 X 4.500\n",
      "\n",
      "4.563 X 2.938 X 9.000\n",
      "\n",
      "4.313 X 4.188 X 10.031\n",
      "\n",
      "4.313 X 2.188 X 10.031\n",
      "\n",
      "6.375 X 2.00 X 7.625\n",
      "\n",
      "8.063 X 2.00 X 7.625\n",
      "\n",
      "4.125\" X 4.250\" X 9.375\"\n",
      "\n",
      "7.25 X 1.625 X 7.25\n",
      "\n",
      "7.25 X 2.25 X 7.25\n",
      "\n",
      "8-15/16\" X 3-1/2\" X 11-1/8\"\n",
      "\n"
     ]
    }
   ],
   "source": [
    "for i in size_list:\n",
    "    print(i + '\\n')"
   ]
  },
  {
   "cell_type": "code",
   "execution_count": 88,
   "metadata": {},
   "outputs": [],
   "source": [
    "kit_columns = ['project',\n",
    "                'serialnum',\n",
    "                'customer',\n",
    "                'speed',\n",
    "                'length',\n",
    "                'width',\n",
    "                'depth']"
   ]
  },
  {
   "cell_type": "code",
   "execution_count": 89,
   "metadata": {},
   "outputs": [],
   "source": [
    "df_kit = pd.DataFrame(columns=kit_columns)"
   ]
  },
  {
   "cell_type": "code",
   "execution_count": 90,
   "metadata": {},
   "outputs": [],
   "source": [
    "serialnums = []\n",
    "\n",
    "for i in df[\"SERIAL #\"]:\n",
    "    serialnums.append(i)"
   ]
  },
  {
   "cell_type": "code",
   "execution_count": 91,
   "metadata": {},
   "outputs": [],
   "source": [
    "serialnums = serialnums[:10]"
   ]
  },
  {
   "cell_type": "code",
   "execution_count": null,
   "metadata": {},
   "outputs": [],
   "source": []
  }
 ],
 "metadata": {
  "kernelspec": {
   "display_name": "Python 3",
   "language": "python",
   "name": "python3"
  },
  "language_info": {
   "codemirror_mode": {
    "name": "ipython",
    "version": 3
   },
   "file_extension": ".py",
   "mimetype": "text/x-python",
   "name": "python",
   "nbconvert_exporter": "python",
   "pygments_lexer": "ipython3",
   "version": "3.7.6"
  }
 },
 "nbformat": 4,
 "nbformat_minor": 4
}
