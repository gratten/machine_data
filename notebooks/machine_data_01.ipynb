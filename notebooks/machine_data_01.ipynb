{
 "cells": [
  {
   "cell_type": "markdown",
   "metadata": {},
   "source": [
    "#### generate import file for machine table"
   ]
  },
  {
   "cell_type": "code",
   "execution_count": 81,
   "metadata": {},
   "outputs": [],
   "source": [
    "import os\n",
    "os.chdir('C:\\\\Users\\\\WDG1DCR\\Desktop\\\\my_projects\\\\web\\\\machine_data\\\\notebooks')"
   ]
  },
  {
   "cell_type": "code",
   "execution_count": 82,
   "metadata": {},
   "outputs": [],
   "source": [
    "import pandas as pd"
   ]
  },
  {
   "cell_type": "code",
   "execution_count": 83,
   "metadata": {},
   "outputs": [],
   "source": [
    "fileName = 'endload_serialnums'"
   ]
  },
  {
   "cell_type": "code",
   "execution_count": 85,
   "metadata": {},
   "outputs": [],
   "source": [
    "xl = pd.ExcelFile(f'source_data/{fileName}.xlsx')\n",
    "df = xl.parse('Enterprise')"
   ]
  },
  {
   "cell_type": "code",
   "execution_count": 101,
   "metadata": {},
   "outputs": [
    {
     "data": {
      "text/html": [
       "<div>\n",
       "<style scoped>\n",
       "    .dataframe tbody tr th:only-of-type {\n",
       "        vertical-align: middle;\n",
       "    }\n",
       "\n",
       "    .dataframe tbody tr th {\n",
       "        vertical-align: top;\n",
       "    }\n",
       "\n",
       "    .dataframe thead th {\n",
       "        text-align: right;\n",
       "    }\n",
       "</style>\n",
       "<table border=\"1\" class=\"dataframe\">\n",
       "  <thead>\n",
       "    <tr style=\"text-align: right;\">\n",
       "      <th></th>\n",
       "      <th>PROJECT</th>\n",
       "      <th>SERIAL #</th>\n",
       "      <th>CUSTOMER</th>\n",
       "      <th>MACHINE DESCRIPTION</th>\n",
       "      <th>BASE NUMBER</th>\n",
       "      <th>CONSIGNMENT GROUP</th>\n",
       "      <th>KITS</th>\n",
       "      <th>Carton Size</th>\n",
       "      <th>SPEED</th>\n",
       "      <th>SHIP  DATE</th>\n",
       "      <th>LINE LAYOUT</th>\n",
       "    </tr>\n",
       "  </thead>\n",
       "  <tbody>\n",
       "    <tr>\n",
       "      <th>0</th>\n",
       "      <td>HS5062</td>\n",
       "      <td>ENT-ABOC-101</td>\n",
       "      <td>SUGAR FOODS</td>\n",
       "      <td>MID-RANGE, 12\" FLIGHTS, ARTICLE BUCKETS</td>\n",
       "      <td>134420</td>\n",
       "      <td>NaN</td>\n",
       "      <td>HS5149 &amp;  HS5176</td>\n",
       "      <td>NaN</td>\n",
       "      <td>NaN</td>\n",
       "      <td>NaN</td>\n",
       "      <td>NaN</td>\n",
       "    </tr>\n",
       "    <tr>\n",
       "      <th>1</th>\n",
       "      <td>HS5077</td>\n",
       "      <td>ENT-103</td>\n",
       "      <td>NESTLE</td>\n",
       "      <td>ENTERPRISE H, 9\" FLIGHTS, PIC INFEED</td>\n",
       "      <td>149320</td>\n",
       "      <td>NaN</td>\n",
       "      <td>HS5127, HS5167 &amp; HS5241</td>\n",
       "      <td>5-7/8 x 1-1/4 x 7.32 &amp; 5-7/8 x 1-1/16 x 7.32</td>\n",
       "      <td>210CPM</td>\n",
       "      <td>NaN</td>\n",
       "      <td>16-4296</td>\n",
       "    </tr>\n",
       "    <tr>\n",
       "      <th>2</th>\n",
       "      <td>HS5097</td>\n",
       "      <td>ENT-104</td>\n",
       "      <td>FURLANI'S</td>\n",
       "      <td>ENTERPRISE, 9\" FLIGHTS, PIC INFEED WITH 90\" (8 FT) PIC EXTENSION, ENTERPRISE</td>\n",
       "      <td>147750</td>\n",
       "      <td>NaN</td>\n",
       "      <td>HS5137 &amp; HS5177</td>\n",
       "      <td>5.250 X 2.500 X 9.000             5.250 X 3.250 X 9.000             5.250 X 3.500 X 9.000             7.125 X 4.000 X 9.500             5.250 X 3.250 X 7.500</td>\n",
       "      <td>120CPM (A &amp;B), 110CPM (C &amp; D) &amp; 60CPM (D)</td>\n",
       "      <td>2013-11-27 00:00:00</td>\n",
       "      <td>16-4339</td>\n",
       "    </tr>\n",
       "    <tr>\n",
       "      <th>3</th>\n",
       "      <td>HS5103</td>\n",
       "      <td>ENT-105</td>\n",
       "      <td>JOHNSONVILLE</td>\n",
       "      <td>ENTERPRISE, 12\" FLIGHTS, PIC INFEED,  LASER MESH GUARDS &amp; TRAC-I, RIGHT ANGLE TRANSFER</td>\n",
       "      <td>154300</td>\n",
       "      <td>NaN</td>\n",
       "      <td>HS5134</td>\n",
       "      <td>5.25 X 2.50 X 9.75                    10.00 X 2.75 X 9.75</td>\n",
       "      <td>130CPM</td>\n",
       "      <td>NaN</td>\n",
       "      <td>16-4359</td>\n",
       "    </tr>\n",
       "    <tr>\n",
       "      <th>4</th>\n",
       "      <td>HS5120</td>\n",
       "      <td>ENT-OC-108</td>\n",
       "      <td>BENCHMARK AUTOMATION / FEHR FOODS</td>\n",
       "      <td>ENTERPRISE, 9\" FLIGHTS, PIC INFEED, OPP HAND WITH 90\" (8 FT) EXTENSION PIC</td>\n",
       "      <td>147750-001</td>\n",
       "      <td>NaN</td>\n",
       "      <td>HS5158</td>\n",
       "      <td>4.563 X 3.031 X 4.500             4.563 X 2.938 X 9.000</td>\n",
       "      <td>NaN</td>\n",
       "      <td>10/10/2014   12/5/14    1/5/15</td>\n",
       "      <td>16-4388</td>\n",
       "    </tr>\n",
       "  </tbody>\n",
       "</table>\n",
       "</div>"
      ],
      "text/plain": [
       "  PROJECT      SERIAL #                           CUSTOMER  \\\n",
       "0  HS5062  ENT-ABOC-101                        SUGAR FOODS   \n",
       "1  HS5077       ENT-103                             NESTLE   \n",
       "2  HS5097       ENT-104                          FURLANI'S   \n",
       "3  HS5103       ENT-105                       JOHNSONVILLE   \n",
       "4  HS5120    ENT-OC-108  BENCHMARK AUTOMATION / FEHR FOODS   \n",
       "\n",
       "                                                                       MACHINE DESCRIPTION  \\\n",
       "0                                                MID-RANGE, 12\" FLIGHTS, ARTICLE BUCKETS     \n",
       "1                                                   ENTERPRISE H, 9\" FLIGHTS, PIC INFEED     \n",
       "2           ENTERPRISE, 9\" FLIGHTS, PIC INFEED WITH 90\" (8 FT) PIC EXTENSION, ENTERPRISE     \n",
       "3   ENTERPRISE, 12\" FLIGHTS, PIC INFEED,  LASER MESH GUARDS & TRAC-I, RIGHT ANGLE TRANSFER   \n",
       "4              ENTERPRISE, 9\" FLIGHTS, PIC INFEED, OPP HAND WITH 90\" (8 FT) EXTENSION PIC    \n",
       "\n",
       "  BASE NUMBER CONSIGNMENT GROUP                     KITS  \\\n",
       "0      134420               NaN        HS5149 &  HS5176    \n",
       "1      149320               NaN  HS5127, HS5167 & HS5241   \n",
       "2      147750               NaN          HS5137 & HS5177   \n",
       "3      154300               NaN                   HS5134   \n",
       "4  147750-001               NaN                   HS5158   \n",
       "\n",
       "                                                                                                                                                      Carton Size  \\\n",
       "0                                                                                                                                                             NaN   \n",
       "1                                                                                                                    5-7/8 x 1-1/4 x 7.32 & 5-7/8 x 1-1/16 x 7.32   \n",
       "2  5.250 X 2.500 X 9.000             5.250 X 3.250 X 9.000             5.250 X 3.500 X 9.000             7.125 X 4.000 X 9.500             5.250 X 3.250 X 7.500    \n",
       "3                                                                                                       5.25 X 2.50 X 9.75                    10.00 X 2.75 X 9.75   \n",
       "4                                                                                                         4.563 X 3.031 X 4.500             4.563 X 2.938 X 9.000   \n",
       "\n",
       "                                       SPEED                      SHIP  DATE  \\\n",
       "0                                        NaN                             NaN   \n",
       "1                                     210CPM                             NaN   \n",
       "2  120CPM (A &B), 110CPM (C & D) & 60CPM (D)             2013-11-27 00:00:00   \n",
       "3                                     130CPM                             NaN   \n",
       "4                                        NaN  10/10/2014   12/5/14    1/5/15   \n",
       "\n",
       "  LINE LAYOUT  \n",
       "0         NaN  \n",
       "1     16-4296  \n",
       "2     16-4339  \n",
       "3     16-4359  \n",
       "4     16-4388  "
      ]
     },
     "execution_count": 101,
     "metadata": {},
     "output_type": "execute_result"
    }
   ],
   "source": [
    "df.head()"
   ]
  },
  {
   "cell_type": "code",
   "execution_count": 87,
   "metadata": {},
   "outputs": [],
   "source": [
    "machine_columns = ['project',\n",
    "                   'prodline',\n",
    "                   'serialnum',\n",
    "                   'customer',\n",
    "                   'description']"
   ]
  },
  {
   "cell_type": "code",
   "execution_count": 88,
   "metadata": {},
   "outputs": [],
   "source": [
    "df_machine = pd.DataFrame(columns=machine_columns)"
   ]
  },
  {
   "cell_type": "code",
   "execution_count": 90,
   "metadata": {},
   "outputs": [],
   "source": [
    "serialnums = []\n",
    "\n",
    "for i in df[\"SERIAL #\"]:\n",
    "    serialnums.append(i)"
   ]
  },
  {
   "cell_type": "code",
   "execution_count": 91,
   "metadata": {},
   "outputs": [],
   "source": [
    "serialnums = serialnums[:10]"
   ]
  },
  {
   "cell_type": "code",
   "execution_count": 92,
   "metadata": {},
   "outputs": [],
   "source": [
    "df_machine['serialnum'] = serialnums"
   ]
  },
  {
   "cell_type": "code",
   "execution_count": 93,
   "metadata": {},
   "outputs": [
    {
     "data": {
      "text/html": [
       "<div>\n",
       "<style scoped>\n",
       "    .dataframe tbody tr th:only-of-type {\n",
       "        vertical-align: middle;\n",
       "    }\n",
       "\n",
       "    .dataframe tbody tr th {\n",
       "        vertical-align: top;\n",
       "    }\n",
       "\n",
       "    .dataframe thead th {\n",
       "        text-align: right;\n",
       "    }\n",
       "</style>\n",
       "<table border=\"1\" class=\"dataframe\">\n",
       "  <thead>\n",
       "    <tr style=\"text-align: right;\">\n",
       "      <th></th>\n",
       "      <th>project</th>\n",
       "      <th>prodline</th>\n",
       "      <th>serialnum</th>\n",
       "      <th>customer</th>\n",
       "      <th>description</th>\n",
       "    </tr>\n",
       "  </thead>\n",
       "  <tbody>\n",
       "    <tr>\n",
       "      <th>0</th>\n",
       "      <td>NaN</td>\n",
       "      <td>NaN</td>\n",
       "      <td>ENT-ABOC-101</td>\n",
       "      <td>NaN</td>\n",
       "      <td>NaN</td>\n",
       "    </tr>\n",
       "    <tr>\n",
       "      <th>1</th>\n",
       "      <td>NaN</td>\n",
       "      <td>NaN</td>\n",
       "      <td>ENT-103</td>\n",
       "      <td>NaN</td>\n",
       "      <td>NaN</td>\n",
       "    </tr>\n",
       "    <tr>\n",
       "      <th>2</th>\n",
       "      <td>NaN</td>\n",
       "      <td>NaN</td>\n",
       "      <td>ENT-104</td>\n",
       "      <td>NaN</td>\n",
       "      <td>NaN</td>\n",
       "    </tr>\n",
       "    <tr>\n",
       "      <th>3</th>\n",
       "      <td>NaN</td>\n",
       "      <td>NaN</td>\n",
       "      <td>ENT-105</td>\n",
       "      <td>NaN</td>\n",
       "      <td>NaN</td>\n",
       "    </tr>\n",
       "    <tr>\n",
       "      <th>4</th>\n",
       "      <td>NaN</td>\n",
       "      <td>NaN</td>\n",
       "      <td>ENT-OC-108</td>\n",
       "      <td>NaN</td>\n",
       "      <td>NaN</td>\n",
       "    </tr>\n",
       "  </tbody>\n",
       "</table>\n",
       "</div>"
      ],
      "text/plain": [
       "  project prodline     serialnum customer description\n",
       "0     NaN      NaN  ENT-ABOC-101      NaN         NaN\n",
       "1     NaN      NaN       ENT-103      NaN         NaN\n",
       "2     NaN      NaN       ENT-104      NaN         NaN\n",
       "3     NaN      NaN       ENT-105      NaN         NaN\n",
       "4     NaN      NaN    ENT-OC-108      NaN         NaN"
      ]
     },
     "execution_count": 93,
     "metadata": {},
     "output_type": "execute_result"
    }
   ],
   "source": [
    "df_machine.head()"
   ]
  },
  {
   "cell_type": "code",
   "execution_count": 95,
   "metadata": {},
   "outputs": [
    {
     "data": {
      "text/plain": [
       "' HS5062'"
      ]
     },
     "execution_count": 95,
     "metadata": {},
     "output_type": "execute_result"
    }
   ],
   "source": [
    "df_trimmed = df[df['SERIAL #'] == df_machine['serialnum'][0]]\n",
    "df_trimmed.iloc[:,0].to_string(index=False)"
   ]
  },
  {
   "cell_type": "code",
   "execution_count": 96,
   "metadata": {},
   "outputs": [],
   "source": [
    "for i in range(len(df_machine['serialnum'])):\n",
    "    df_trimmed = df[df['SERIAL #'] == df_machine['serialnum'][i]]\n",
    "    df_machine['project'][i] = df_trimmed.iloc[:,0].to_string(index=False)\n",
    "    df_machine['prodline'][i] = 'Enterprise'\n",
    "    df_machine['customer'][i] = df_trimmed.iloc[:,2].to_string(index=False)\n",
    "    df_machine['description'][i] = df_trimmed.iloc[:,3].to_string(index=False)"
   ]
  },
  {
   "cell_type": "code",
   "execution_count": 98,
   "metadata": {
    "scrolled": true
   },
   "outputs": [
    {
     "data": {
      "text/html": [
       "<div>\n",
       "<style scoped>\n",
       "    .dataframe tbody tr th:only-of-type {\n",
       "        vertical-align: middle;\n",
       "    }\n",
       "\n",
       "    .dataframe tbody tr th {\n",
       "        vertical-align: top;\n",
       "    }\n",
       "\n",
       "    .dataframe thead th {\n",
       "        text-align: right;\n",
       "    }\n",
       "</style>\n",
       "<table border=\"1\" class=\"dataframe\">\n",
       "  <thead>\n",
       "    <tr style=\"text-align: right;\">\n",
       "      <th></th>\n",
       "      <th>project</th>\n",
       "      <th>prodline</th>\n",
       "      <th>serialnum</th>\n",
       "      <th>customer</th>\n",
       "      <th>description</th>\n",
       "    </tr>\n",
       "  </thead>\n",
       "  <tbody>\n",
       "    <tr>\n",
       "      <th>0</th>\n",
       "      <td>HS5062</td>\n",
       "      <td>Enterprise</td>\n",
       "      <td>ENT-ABOC-101</td>\n",
       "      <td>SUGAR FOODS</td>\n",
       "      <td>MID-RANGE, 12\" FLIGHTS, ARTICLE BUCKETS</td>\n",
       "    </tr>\n",
       "    <tr>\n",
       "      <th>1</th>\n",
       "      <td>HS5077</td>\n",
       "      <td>Enterprise</td>\n",
       "      <td>ENT-103</td>\n",
       "      <td>NESTLE</td>\n",
       "      <td>ENTERPRISE H, 9\" FLIGHTS, PIC INFEED</td>\n",
       "    </tr>\n",
       "    <tr>\n",
       "      <th>2</th>\n",
       "      <td>HS5097</td>\n",
       "      <td>Enterprise</td>\n",
       "      <td>ENT-104</td>\n",
       "      <td>FURLANI'S</td>\n",
       "      <td>ENTERPRISE, 9\" FLIGHTS, PIC INFEED WITH 90\" (8 FT) PIC EXTENSION, ENTERPRISE</td>\n",
       "    </tr>\n",
       "    <tr>\n",
       "      <th>3</th>\n",
       "      <td>HS5103</td>\n",
       "      <td>Enterprise</td>\n",
       "      <td>ENT-105</td>\n",
       "      <td>JOHNSONVILLE</td>\n",
       "      <td>ENTERPRISE, 12\" FLIGHTS, PIC INFEED,  LASER MESH GUARDS &amp; TRAC-I, RIGHT ANGLE TRANSFER</td>\n",
       "    </tr>\n",
       "    <tr>\n",
       "      <th>4</th>\n",
       "      <td>HS5120</td>\n",
       "      <td>Enterprise</td>\n",
       "      <td>ENT-OC-108</td>\n",
       "      <td>BENCHMARK AUTOMATION / FEHR FOODS</td>\n",
       "      <td>ENTERPRISE, 9\" FLIGHTS, PIC INFEED, OPP HAND WITH 90\" (8 FT) EXTENSION PIC</td>\n",
       "    </tr>\n",
       "  </tbody>\n",
       "</table>\n",
       "</div>"
      ],
      "text/plain": [
       "   project    prodline     serialnum                            customer  \\\n",
       "0   HS5062  Enterprise  ENT-ABOC-101                         SUGAR FOODS   \n",
       "1   HS5077  Enterprise       ENT-103                              NESTLE   \n",
       "2   HS5097  Enterprise       ENT-104                           FURLANI'S   \n",
       "3   HS5103  Enterprise       ENT-105                        JOHNSONVILLE   \n",
       "4   HS5120  Enterprise    ENT-OC-108   BENCHMARK AUTOMATION / FEHR FOODS   \n",
       "\n",
       "                                                                                description  \n",
       "0                                                 MID-RANGE, 12\" FLIGHTS, ARTICLE BUCKETS    \n",
       "1                                                    ENTERPRISE H, 9\" FLIGHTS, PIC INFEED    \n",
       "2            ENTERPRISE, 9\" FLIGHTS, PIC INFEED WITH 90\" (8 FT) PIC EXTENSION, ENTERPRISE    \n",
       "3    ENTERPRISE, 12\" FLIGHTS, PIC INFEED,  LASER MESH GUARDS & TRAC-I, RIGHT ANGLE TRANSFER  \n",
       "4               ENTERPRISE, 9\" FLIGHTS, PIC INFEED, OPP HAND WITH 90\" (8 FT) EXTENSION PIC   "
      ]
     },
     "execution_count": 98,
     "metadata": {},
     "output_type": "execute_result"
    }
   ],
   "source": [
    "df_machine.head()"
   ]
  },
  {
   "cell_type": "code",
   "execution_count": 99,
   "metadata": {},
   "outputs": [],
   "source": [
    "# required so that long strings are not truncated when exported to csv\n",
    "pd.set_option(\"display.max_colwidth\", 10000)"
   ]
  },
  {
   "cell_type": "code",
   "execution_count": 100,
   "metadata": {},
   "outputs": [],
   "source": [
    "os.chdir('C:\\\\Users\\\\WDG1DCR\\Desktop\\\\my_projects\\\\web\\\\machine_data\\\\external')\n",
    "df_machine.to_csv('endload.csv', sep=';', index=False, header=False)"
   ]
  },
  {
   "cell_type": "code",
   "execution_count": null,
   "metadata": {},
   "outputs": [],
   "source": []
  }
 ],
 "metadata": {
  "kernelspec": {
   "display_name": "Python 3",
   "language": "python",
   "name": "python3"
  },
  "language_info": {
   "codemirror_mode": {
    "name": "ipython",
    "version": 3
   },
   "file_extension": ".py",
   "mimetype": "text/x-python",
   "name": "python",
   "nbconvert_exporter": "python",
   "pygments_lexer": "ipython3",
   "version": "3.7.6"
  }
 },
 "nbformat": 4,
 "nbformat_minor": 4
}
